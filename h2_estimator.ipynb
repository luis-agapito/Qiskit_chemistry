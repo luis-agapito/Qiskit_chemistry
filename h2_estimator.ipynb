{
 "cells": [
  {
   "cell_type": "markdown",
   "metadata": {},
   "source": [
    "$\n",
    "\\newcommand{ket}[1]{\\vert#1\\rangle}\n",
    "\\newcommand{bra}[1]{\\langle#1\\vert}\n",
    "\\newcommand{\\AA}{\\unicode{x212B}}\n",
    "$"
   ]
  },
  {
   "cell_type": "markdown",
   "metadata": {},
   "source": [
    "# How is the energy (expectation value) calculated?\n",
    "\n",
    "- [1. Introduction](#sec1)\n",
    "\n",
    "- [2. Methodology](#sec2)\n",
    "   - [2.1 Workflow](#sec21)\n",
    "   - [2.2 Example: Pauli string $\\hat{X} \\otimes \\hat{X}$](#sec22)\n",
    "   - [2.3 Example: Pauli string $\\hat{Y} \\otimes \\hat{X}$](#sec23)\n",
    "   - [2.4 Example: Pauli string $\\hat{I} \\otimes \\hat{Z}$](#sec24)\n",
    "\n",
    "- [3. Computing the energy and comparing against built-in `Estimator()`](#sec3)\n"
   ]
  },
  {
   "cell_type": "markdown",
   "metadata": {},
   "source": [
    "<a id='sec1'></a>\n",
    "## 1. Introduction\n",
    "\n",
    "Energy is the expectation value (braket) of the Hamiltonian operator: $ E = \\bra{\\Psi} \\hat{h} \\ket{\\Psi}$ . In classical computers, this braket is computed explicitly. In a quantum computer, however, it follows a different methodology, from which it stems the computational advantage over classical computing: the braket is estimated from measurements performed on quantum circuits (a different circuit per Pauli string) by combining the probabilites resulting from the measurements, as will be shown.\n",
    "\n",
    "Here, we present examples to illustrate the technicalities involved in this methodology. The two-qubit Hamiltonian $\\hat{h}$ for $H_2$ (at bondlength $0.735 \\AA$) is \n",
    "$  \\hat{h} = \n",
    "         -1.0523732 \\cdot \\hat{I}\\otimes \\hat{I} \n",
    "        +0.39793742 \\cdot \\hat{I}\\otimes \\hat{Z} \n",
    "         -0.3979374 \\cdot \\hat{Z}\\otimes \\hat{I}\n",
    "         -0.0112801 \\cdot \\hat{Z}\\otimes \\hat{Z}\n",
    "        +0.18093119 \\cdot \\hat{X}\\otimes \\hat{X} \n",
    "$ \n",
    "; where $\\ket{\\Psi} = \\ket{11}$ is the Hartree-Fock wavefunction. The expression for the energy is composed of 5 terms (one per Pauli strings).\n",
    "\n",
    "$$  \n",
    "\\begin{align*}\n",
    "E &= \\bra{\\Psi} \\hat{h} \\ket{\\Psi} \\\\ \n",
    "  &=       -1.0523732 \\bra{\\Psi} \\hat{I} \\otimes \\hat{I} \\ket{\\Psi} \n",
    "        +0.39793742 \\bra{\\Psi} \\hat{I} \\otimes \\hat{Z} \\ket{\\Psi} \n",
    "         -0.3979374 \\bra{\\Psi} \\hat{Z} \\otimes \\hat{I} \\ket{\\Psi}\n",
    "         -0.0112801 \\bra{\\Psi} \\hat{Z} \\otimes \\hat{Z} \\ket{\\Psi}\n",
    "        +0.18093119 \\bra{\\Psi} \\hat{X} \\otimes \\hat{X} \\ket{\\Psi} \n",
    "\\end{align*}\n",
    "$$ \n",
    "\n",
    "Each term is computed summing the probabilities, $P$, obtained from measuring quantum circuits. In this notebook, we'll demonstrate the following identities\n",
    "\n",
    "$$\n",
    "\\begin{gather*}\n",
    "\\bra{\\Psi} \\hat{I} \\otimes \\hat{I} \\ket{\\Psi} = P_{\\ket{\\Psi'}}(\\ket{00}) + P_{\\ket{\\Psi'}}(\\ket{01}) + P_{\\ket{\\Psi'}}(\\ket{10}) + P_{\\ket{\\Psi'}}(\\ket{11}) \\\\ \n",
    "\\bra{\\Psi} \\hat{I} \\otimes \\hat{Z} \\ket{\\Psi} = P_{\\ket{\\Psi'}}(\\ket{00}) - P_{\\ket{\\Psi'}}(\\ket{01}) + P_{\\ket{\\Psi'}}(\\ket{10}) - P_{\\ket{\\Psi'}}(\\ket{11}) \\\\ \n",
    "\\bra{\\Psi} \\hat{Z} \\otimes \\hat{I} \\ket{\\Psi} = P_{\\ket{\\Psi'}}(\\ket{00}) + P_{\\ket{\\Psi'}}(\\ket{01}) - P_{\\ket{\\Psi'}}(\\ket{10}) - P_{\\ket{\\Psi'}}(\\ket{11}) \\\\ \n",
    "\\bra{\\Psi} \\hat{Z} \\otimes \\hat{Z} \\ket{\\Psi} = P_{\\ket{\\Psi'}}(\\ket{00}) - P_{\\ket{\\Psi'}}(\\ket{01}) - P_{\\ket{\\Psi'}}(\\ket{10}) + P_{\\ket{\\Psi'}}(\\ket{11}) \\\\ \n",
    "\\bra{\\Psi} \\hat{X} \\otimes \\hat{X} \\ket{\\Psi} = P_{\\ket{\\Psi'}}(\\ket{00}) - P_{\\ket{\\Psi'}}(\\ket{01}) - P_{\\ket{\\Psi'}}(\\ket{10}) + P_{\\ket{\\Psi'}}(\\ket{11}) \\\\ \n",
    "\\end{gather*}\n",
    "$$\n",
    "\n",
    "and use Qiskit to *manually* compute the energy. Finally, we'll compare against the results obtained using Qiskit's built-in class `Estimator()`. \n",
    "$\\ket{\\Psi'}$ (different from $\\ket{\\Psi}$) are outputs of extended circuits (explained below). Here the notation will follow Qiskit ordering, e.g. the operator $\\hat{Z} \\otimes \\hat{I}$ applies $\\hat{I}$ to the least-significant bit LSB (right most) and $\\hat{Z}$ to the most-significant bit (left most). \n",
    "\n"
   ]
  },
  {
   "cell_type": "markdown",
   "metadata": {},
   "source": [
    "<a id='sec2'></a>\n",
    "## 2. Methodology"
   ]
  },
  {
   "cell_type": "markdown",
   "metadata": {},
   "source": [
    "<a id='sec21'></a>\n",
    "### 2.1 Workflow\n",
    "\n",
    "- A. We create an initial quantum circuit that builds the wavefunction (aka ansatz). For the simple $\\Psi = \\ket{11}$, the circuit has one layer with  one $X$ gate on each line."
   ]
  },
  {
   "cell_type": "code",
   "execution_count": 1,
   "metadata": {},
   "outputs": [
    {
     "data": {
      "image/png": "[encoded data removed]",
      "text/plain": [
       "<Figure size 203.683x200.667 with 1 Axes>"
      ]
     },
     "execution_count": 1,
     "metadata": {},
     "output_type": "execute_result"
    }
   ],
   "source": [
    "import numpy\n",
    "from qiskit.circuit import QuantumCircuit\n",
    "from qiskit.quantum_info import SparsePauliOp\n",
    "\n",
    "# Two-qubit Hamitonian operator for H2 @ 0.735 Ang bond length\n",
    "H2_operators = [ \n",
    "        [SparsePauliOp([\"II\"], [ -1.0523732])],\n",
    "        [SparsePauliOp([\"IZ\"], [ 0.39793742])],\n",
    "        [SparsePauliOp([\"ZI\"], [ -0.3979374])], #I to q0 (LSB), Z to q1 (MSB)\n",
    "        [SparsePauliOp([\"ZZ\"], [ -0.0112801])],\n",
    "        [SparsePauliOp([\"XX\"], [ 0.18093119])],\n",
    "]\n",
    "\n",
    "# Defining the wavefunction as the HF state |11>.\n",
    "psi_HF = QuantumCircuit(2)\n",
    "psi_HF.x(0) \n",
    "psi_HF.x(1)\n",
    "psi_HF.draw(\"mpl\")"
   ]
  },
  {
   "cell_type": "markdown",
   "metadata": {},
   "source": [
    "- B. The energy of each Pauli string is computed independently and added. For each Pauli string we create an extended circuit, which appends gates to each qubit line according to the observable for that line:\n",
    "    - For observable $\\hat{X}$, append a Hadamard gate $H$. \n",
    "    - For observable $\\hat{Y}$, append an $S^\\dagger$ gate then a $H$ gate. \n",
    "    - For observables $\\hat{Z}$ or $\\hat{I}$, do nothing.\n",
    "    \n",
    "- C. Add measurements to each line and run the circuit. Measuring $\\ket{\\Psi'}$ (the output of extended circuit; measured at the second barrier, after the H gates in the figure below) yields the probabilities for each possible basis state in $\\ket{\\Psi'}$. Use these probabilities, e.g. $P_{\\Psi'}(\\ket{01})$, to compute the expectation value for the Pauli string.\n",
    "\n",
    "- D. Finally, the energy $H_2$ is obtained by adding the expectation values of each Pauli string, weighted by the corresponding coefficients seen in the expansion of $\\hat{h}$. "
   ]
  },
  {
   "cell_type": "markdown",
   "metadata": {},
   "source": [
    "<a id='sec22'></a>\n",
    "### 2.2 Example: Pauli string $\\hat{X} \\otimes \\hat{X}$\n",
    "\n",
    "\n",
    "The extended circuit for the Pauli string $\\hat{X} \\otimes \\hat{X}$ adds Hadamard gates, as shown below, and the expectation value can be calculated as\n",
    "$$\n",
    "\\bra{\\Psi} \\hat{X} \\otimes \\hat{X} \\ket{\\Psi} = \\bra{\\Psi'} \\hat{Z} \\otimes \\hat{Z} \\ket{\\Psi'} = P_{\\ket{\\Psi'}}(\\ket{00}) - P_{\\ket{\\Psi'}}(\\ket{01}) - P_{\\ket{\\Psi'}}(\\ket{10}) + P_{\\ket{\\Psi'}}(\\ket{11}) \\\\ \n",
    "$$\n",
    "where $\\Psi$ is the molecular wavefunction, measure at the first barrier, after the X gates."
   ]
  },
  {
   "cell_type": "code",
   "execution_count": 2,
   "metadata": {},
   "outputs": [
    {
     "data": {
      "image/png": "[encoded data removed]",
      "text/plain": [
       "<Figure size 663.998x284.278 with 1 Axes>"
      ]
     },
     "execution_count": 2,
     "metadata": {},
     "output_type": "execute_result"
    }
   ],
   "source": [
    "circ = psi_HF.copy(); circ.barrier(); circ.h(0); circ.h(1); circ.measure_all(); circ.draw(\"mpl\")"
   ]
  },
  {
   "cell_type": "markdown",
   "metadata": {},
   "source": [
    "#### Demonstrate: $\\bra{\\Psi} \\hat{X} \\otimes \\hat{X} \\ket{\\Psi} = \\bra{\\Psi'} \\hat{Z} \\otimes \\hat{Z} \\ket{\\Psi'}$\n",
    "\n",
    "From the extended circuit, we have $\\ket{\\Psi'} = (\\hat{H}_1 \\otimes \\hat{H}_0) \\ket{\\Psi}$. Also, we'll use the known identity $\\hat{X} = \\hat{H} \\otimes \\hat{Z} \\otimes \\hat{H}$.\n",
    "$$\n",
    "\\begin{align*}\n",
    " \\bra{\\Psi'} \\hat{Z}_1 \\otimes \\hat{Z}_0 \\ket{\\Psi'} \n",
    " &= \\bra{\\Psi} (\\hat{H}_1 \\otimes \\hat{H}_0) (\\hat{Z}_1 \\otimes \\hat{Z}_0) (\\hat{H}_1 \\otimes \\hat{H}_0)\\ket{\\Psi} \\\\\n",
    " &= \\bra{\\Psi} (\\hat{H}_1 \\otimes \\hat{Z}_1 \\otimes \\hat{H}_1) \\otimes (\\hat{H}_0 \\otimes \\hat{Z}_0 \\otimes \\hat{H}_0) \\ket{\\Psi} \\\\\n",
    " &= \\bra{\\Psi} \\hat{X}_1 \\otimes \\hat{X}_0 \\ket{\\Psi} \\\\\n",
    "\\end{align*}\n",
    "$$\n",
    "\n",
    "#### Evaluate: $\\bra{\\Psi'} \\hat{Z} \\otimes \\hat{Z} \\ket{\\Psi'}$\n",
    "$$\n",
    "\\begin{align*}\n",
    "\\bra{\\Psi'} \\hat{Z}_1 \\otimes \\hat{Z}_0 \\ket{\\Psi'} \n",
    "&= \\bra{\\Psi'} (\\ket{0}_1\\bra{0}_1 - \\ket{1}_1\\bra{1}_1 ) \\otimes (\\ket{0}_0\\bra{0}_0 - \\ket{1}_0\\bra{1}_0 ) \\ket{\\Psi'} \\\\\n",
    "&= \\bra{\\Psi'} (\n",
    "                \\ket{0}_1\\bra{0}_1 \\otimes \\ket{0}_0\\bra{0}_0 \n",
    "               -\\ket{0}_1\\bra{0}_1 \\otimes \\ket{1}_0\\bra{1}_0\n",
    "               -\\ket{1}_1\\bra{1}_1 \\otimes \\ket{0}_0\\bra{0}_0 \n",
    "               +\\ket{1}_1\\bra{1}_1 \\otimes \\ket{1}_0\\bra{1}_0 \n",
    ") \\ket{\\Psi'} \\\\\n",
    "\n",
    "&= \\bra{\\Psi'} (\n",
    "                [\\ket{0}_1 \\otimes \\ket{0}_0] [\\bra{0}_1 \\otimes \\bra{0}_0] \n",
    "               -[\\ket{0}_1 \\otimes \\ket{1}_0] [\\bra{0}_1 \\otimes \\bra{1}_0]\n",
    "               -[\\ket{1}_1 \\otimes \\ket{0}_0] [\\bra{1}_1 \\otimes \\bra{0}_0] \n",
    "               +[\\ket{1}_1 \\otimes \\ket{1}_0] [\\bra{1}_1 \\otimes \\bra{1}_0] \n",
    ") \\ket{\\Psi'} \\\\\n",
    "&= \\bra{\\Psi'} (\n",
    "                \\ket{00} \\bra{00}  \n",
    "               -\\ket{01} \\bra{01} \n",
    "               -\\ket{10} \\bra{10}  \n",
    "               +\\ket{11} \\bra{11}  \n",
    ") \\ket{\\Psi'} \\\\\n",
    "&=  \n",
    "     |\\bra{00} \\Psi'\\rangle |^2 \n",
    "    -|\\bra{01} \\Psi'\\rangle |^2\n",
    "    -|\\bra{10} \\Psi'\\rangle |^2 \n",
    "    +|\\bra{11} \\Psi'\\rangle |^2 \n",
    "     \\\\\n",
    "&=  \n",
    "     P_{\\ket{\\Psi'}}(\\ket{00})\n",
    "    -P_{\\ket{\\Psi'}}(\\ket{01})\n",
    "    -P_{\\ket{\\Psi'}}(\\ket{10})\n",
    "    +P_{\\ket{\\Psi'}}(\\ket{11})\n",
    "     \\\\\n",
    "\\end{align*}\n",
    "$$"
   ]
  },
  {
   "cell_type": "markdown",
   "metadata": {},
   "source": [
    "<a id='sec23'></a>\n",
    "### 2.3 Example: Pauli string $\\hat{Y} \\otimes \\hat{X}$\n",
    "\n",
    "The extended circuit for the Pauli string $\\hat{Y} \\otimes \\hat{X}$ adds Hadamard gates, as shown below, and the expectation value can be calculated as\n",
    "$$\n",
    "\\bra{\\Psi} \\hat{Y} \\otimes \\hat{X} \\ket{\\Psi} = \\bra{\\Psi''} \\hat{Z} \\otimes \\hat{Z} \\ket{\\Psi''} = P_{\\Psi''}(\\ket{00}) - P_{\\Psi''}(\\ket{01}) - P_{\\Psi''}(\\ket{10}) + P_{\\Psi''}(\\ket{11}) \\\\ \n",
    "$$\n",
    "where $\\ket{\\Psi''}$ is different from $\\ket{\\Psi'}$ because they are outputs of two different extended circuits."
   ]
  },
  {
   "cell_type": "code",
   "execution_count": 3,
   "metadata": {},
   "outputs": [
    {
     "data": {
      "image/png": "[encoded data removed]",
      "text/plain": [
       "<Figure size 747.609x284.278 with 1 Axes>"
      ]
     },
     "execution_count": 3,
     "metadata": {},
     "output_type": "execute_result"
    }
   ],
   "source": [
    "circ = psi_HF.copy(); circ.barrier(); circ.sdg(0); circ.h(0); circ.h(1); circ.measure_all(); circ.draw(\"mpl\")"
   ]
  },
  {
   "cell_type": "markdown",
   "metadata": {},
   "source": [
    "<a id='sec24'></a>\n",
    "### 2.4 Example: Pauli string $\\hat{I} \\otimes \\hat{Z}$\n",
    "\n",
    "For most Pauli strings, like the two examples above, the expectation values can be calculated using the same pattern (signs) in adding the probabilities. \n",
    "\n",
    "However, it will differ for cases where the string contains at least one $I$ operator. For case $\\hat{I}\\hat{Z}$, the extended circuit is the same as the original circuit and the expectation value is\n",
    "\n",
    "$$\n",
    "\\begin{align*}\n",
    "\\bra{\\Psi} \\hat{I} \\otimes \\hat{Z} \\ket{\\Psi} &= \\bra{\\Psi}(\\ket{0}_1\\bra{0}_1 + \\ket{1}_1\\bra{1}_1) \\otimes (\\ket{0}_0\\bra{0}_0 - \\ket{1}_0\\bra{1}_0) \\ket{\\Psi} \\\\\n",
    "\n",
    "&= \\bra{\\Psi} (\n",
    "                [\\ket{0}_1 \\otimes \\ket{0}_0] [\\bra{0}_1 \\otimes \\bra{0}_0] \n",
    "               -[\\ket{0}_1 \\otimes \\ket{1}_0] [\\bra{0}_1 \\otimes \\bra{1}_0]\n",
    "               +[\\ket{1}_1 \\otimes \\ket{0}_0] [\\bra{1}_1 \\otimes \\bra{0}_0] \n",
    "               -[\\ket{1}_1 \\otimes \\ket{1}_0] [\\bra{1}_1 \\otimes \\bra{1}_0] \n",
    ") \\ket{\\Psi} \\\\\n",
    "\n",
    "&= \\bra{\\Psi} (\n",
    "                \\ket{00} \\bra{00}  \n",
    "               -\\ket{01} \\bra{01} \n",
    "               +\\ket{10} \\bra{10}  \n",
    "               -\\ket{11} \\bra{11}  \n",
    ") \\ket{\\Psi} \\\\\n",
    "&=  \n",
    "     |\\bra{00} \\Psi'\\rangle |^2 \n",
    "    -|\\bra{01} \\Psi'\\rangle |^2\n",
    "    +|\\bra{10} \\Psi'\\rangle |^2 \n",
    "    -|\\bra{11} \\Psi'\\rangle |^2 \n",
    "     \\\\\n",
    "&=  \n",
    "     P_{\\ket{\\Psi'}}(\\ket{00})\n",
    "    -P_{\\ket{\\Psi'}}(\\ket{01})\n",
    "    +P_{\\ket{\\Psi'}}(\\ket{10})\n",
    "    -P_{\\ket{\\Psi'}}(\\ket{11})\n",
    "     \\\\\n",
    "\n",
    "\\end {align*}\n",
    "$$\n"
   ]
  },
  {
   "cell_type": "markdown",
   "metadata": {},
   "source": [
    "<a id='sec3'></a>\n",
    "## 3. Computing the energy and comparing against built-in `Estimator()`"
   ]
  },
  {
   "cell_type": "code",
   "execution_count": 4,
   "metadata": {},
   "outputs": [
    {
     "name": "stdout",
     "output_type": "stream",
     "text": [
      "Pauli string =  II , weight= -1.0523732\n",
      "Energy= -1.0523732 Ha [ -1.0523732 from Estimator() ]\n",
      "\n",
      "-------------------\n",
      "\n",
      "Pauli string =  IZ , weight= 0.39793742\n",
      "Energy= -0.39793742 Ha [ -0.39793742 from Estimator() ]\n",
      "\n",
      "-------------------\n",
      "\n",
      "Pauli string =  ZI , weight= -0.3979374\n",
      "Energy= 0.3979374 Ha [ 0.3979374 from Estimator() ]\n",
      "\n",
      "-------------------\n",
      "\n",
      "Pauli string =  ZZ , weight= -0.0112801\n",
      "Energy= -0.0112801 Ha [ -0.0112801 from Estimator() ]\n",
      "\n",
      "-------------------\n",
      "\n",
      "Pauli string =  XX , weight= 0.18093119\n"
     ]
    },
    {
     "data": {
      "image/png": "[encoded data removed]",
      "text/plain": [
       "<Figure size 663.998x284.278 with 1 Axes>"
      ]
     },
     "metadata": {},
     "output_type": "display_data"
    },
    {
     "name": "stdout",
     "output_type": "stream",
     "text": [
      "Energy= -0.003510065086 Ha [ 0.0 from Estimator() ]\n",
      "\n",
      "-------------------\n",
      "\n",
      "\n",
      "\n",
      "H2 electronic energy =  -1.0671633850859998 Ha [ -1.0636533199999998 from Estimator() ]\n"
     ]
    }
   ],
   "source": [
    "from qiskit.primitives import BitArray\n",
    "from qiskit_aer.primitives import SamplerV2, EstimatorV2\n",
    "\n",
    "def getSumOfProbabilities(qubit_string : str, measurement : BitArray) -> dict:\n",
    "    states_with_counts = measurement.get_counts()\n",
    "    nshots = measurement.num_shots\n",
    "  \n",
    "    table_of_coeffs_for_sum = {\n",
    "    \"II\": {'00': 1.0, '01': 1.0, '10': 1.0, '11': 1.0},\n",
    "    \"IZ\": {'00': 1.0, '01':-1.0, '10': 1.0, '11':-1.0},\n",
    "    \"ZI\": {'00': 1.0, '01': 1.0, '10':-1.0, '11':-1.0},\n",
    "    \"ZZ\": {'00': 1.0, '01':-1.0, '10':-1.0, '11': 1.0},\n",
    "    }\n",
    "    string = qubit_string if (\"I\" in qubit_string) else \"ZZ\" #in the extended circuit, all other cases (such as \"XY\") follow as \"ZZ\"\n",
    "    prob = 0.0\n",
    "    for state, coeff in table_of_coeffs_for_sum[string].items():\n",
    "        prob += coeff * states_with_counts[state]/nshots if state in states_with_counts.keys() else 0.0\n",
    "    return prob \n",
    "\n",
    "Pauli_string_list = [\n",
    "    [\"II\",  -1.0523732],\n",
    "    [\"IZ\",  0.39793742],\n",
    "    [\"ZI\",  -0.3979374], #I to q0 (LSB), Z to q1 (MSB)\n",
    "    [\"ZZ\",  -0.0112801],\n",
    "    [\"XX\",  0.18093119]\n",
    "]\n",
    "\n",
    "nshots = 10000\n",
    "\n",
    "# Calculate the energy using built-in class Estimator() \n",
    "pub = (psi_HF, H2_operators)\n",
    "estimator = EstimatorV2() \n",
    "results = estimator.run([pub]).result()[0] \n",
    "estimations = results.data.evs\n",
    "#print(\"H2 electronic energy\", numpy.sum(estimations))\n",
    "#print(\"contribution of each Pauli string:\\n\", estimations)\n",
    "\n",
    "# Calculate the energy manually \n",
    "psi = psi_HF.copy()\n",
    "energy_list = []\n",
    "\n",
    "for i, (Pauli_string, weight) in enumerate(Pauli_string_list):\n",
    "    print(\"Pauli string = \", Pauli_string, \", weight=\", weight)\n",
    "    #1. Create a extended circuit for each Pauli-string operator. This append the gates 'needed' for obtaining expectation values\n",
    "    circ = psi.copy()\n",
    "    circ.barrier()\n",
    "    for i_qubit, i_operator in enumerate(Pauli_string[::-1]):\n",
    "        if i_operator == \"X\": \n",
    "            circ.h(i_qubit)\n",
    "        if i_operator == \"Y\": \n",
    "            circ.sdg(i_qubit) #S^{\\dag}\n",
    "            circ.h(i_qubit)\n",
    "    circ.measure_all()\n",
    "    if Pauli_string in [\"XX\"]: display(circ.draw(\"mpl\"))\n",
    "\n",
    "    #2. Perform measurements of the extended circuits\n",
    "    sampler = SamplerV2()\n",
    "    job = sampler.run([circ], shots=nshots)\n",
    "    result_ideal = job.result()\n",
    "    data = result_ideal[0].data\n",
    "    measurements = data.meas\n",
    "    energy = weight * getSumOfProbabilities(Pauli_string, measurements)\n",
    "    #print(Pauli_string, \"weight=\", weight, \"energy=\", energy)\n",
    "    energy_list.append(energy)\n",
    "    print(\"Energy=\", energy, \"Ha\", \"[\", estimations[i][0], \"from Estimator() ]\")\n",
    "    print(\"\\n-------------------\\n\")\n",
    "print(\"\\n\\nH2 electronic energy = \", numpy.array(energy_list).sum(), \"Ha\", \"[\", numpy.sum(estimations), \"from Estimator() ]\")\n"
   ]
  },
  {
   "cell_type": "code",
   "execution_count": 5,
   "metadata": {},
   "outputs": [
    {
     "name": "stdout",
     "output_type": "stream",
     "text": [
      "notebook                          7.2.2\n",
      "notebook_shim                     0.2.4\n",
      "qiskit                            1.2.4\n",
      "qiskit-aer                        0.15.1\n",
      "qiskit-algorithms                 0.3.1\n",
      "qiskit-ibm-provider               0.11.0\n",
      "qiskit-ibm-runtime                0.31.0\n",
      "qiskit-nature                     0.7.2\n",
      "Python 3.13.0\n"
     ]
    }
   ],
   "source": [
    "!pip list | grep \"notebook\"\n",
    "!pip list | grep \"qiskit\"\n",
    "!python --version"
   ]
  }
 ],
 "metadata": {
  "kernelspec": {
   "display_name": "cwqiskit",
   "language": "python",
   "name": "python3"
  },
  "language_info": {
   "codemirror_mode": {
    "name": "ipython",
    "version": 3
   },
   "file_extension": ".py",
   "mimetype": "text/x-python",
   "name": "python",
   "nbconvert_exporter": "python",
   "pygments_lexer": "ipython3",
   "version": "3.13.0"
  }
 },
 "nbformat": 4,
 "nbformat_minor": 4
}
